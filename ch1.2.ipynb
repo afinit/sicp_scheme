{
 "cells": [
  {
   "cell_type": "markdown",
   "metadata": {},
   "source": [
    "## exercise 1.9\n",
    "\n",
    "#### Recursive Process\n",
    "    (define (+ a b)\n",
    "      (if (= a 0) b (inc (+ (dec a) b))))\n",
    "      \n",
    "    (+ 4 5)\n",
    "    (inc (+ 3 5))\n",
    "    (inc (inc (+ 2 5)))\n",
    "    (inc (inc (inc (+ 1 5))))\n",
    "    (inc (inc (inc (inc (+ 0 5)))))\n",
    "    (inc (inc (inc (inc 5))))\n",
    "    (inc (inc (inc 6)))\n",
    "    (inc (inc 7)))\n",
    "    (inc 8)\n",
    "    9\n",
    "    \n",
    "#### Iterative Process\n",
    "    (define (+ a b)\n",
    "      (if (= a 0) b (+ (dec a) (inc b))))\n",
    "      \n",
    "    (+ 4 5)\n",
    "    (+ 3 6)\n",
    "    (+ 2 7)\n",
    "    (+ 1 8)\n",
    "    (+ 0 9)\n",
    "    9"
   ]
  },
  {
   "cell_type": "markdown",
   "metadata": {},
   "source": [
    "## exercise 1.10"
   ]
  },
  {
   "cell_type": "code",
   "execution_count": 1,
   "metadata": {},
   "outputs": [
    {
     "data": {
      "text/plain": [
       "a"
      ]
     },
     "execution_count": 1,
     "metadata": {},
     "output_type": "execute_result"
    }
   ],
   "source": [
    "(define (A x y) \n",
    "  (cond ((= y 0) 0)\n",
    "    ((= x 0) (* 2 y))\n",
    "    ((= y 1) 2)\n",
    "    (else (A (- x 1) (A x (- y 1))))))"
   ]
  },
  {
   "cell_type": "code",
   "execution_count": 2,
   "metadata": {},
   "outputs": [
    {
     "data": {
      "text/plain": [
       "1024"
      ]
     },
     "execution_count": 2,
     "metadata": {},
     "output_type": "execute_result"
    }
   ],
   "source": [
    "(A 1 10)"
   ]
  },
  {
   "cell_type": "code",
   "execution_count": 3,
   "metadata": {},
   "outputs": [
    {
     "data": {
      "text/plain": [
       "8"
      ]
     },
     "execution_count": 3,
     "metadata": {},
     "output_type": "execute_result"
    }
   ],
   "source": [
    "(A 1 3)\n",
    "(A 0 (A 1 2))\n",
    "(A 0 (A 0 (A 1 1)))\n",
    "(A 0 (A 0 2))"
   ]
  },
  {
   "cell_type": "code",
   "execution_count": 4,
   "metadata": {},
   "outputs": [
    {
     "data": {
      "text/plain": [
       "16"
      ]
     },
     "execution_count": 4,
     "metadata": {},
     "output_type": "execute_result"
    }
   ],
   "source": [
    "(A 2 4)\n",
    "(A 1 (A 2 3))\n",
    "(A 1 (A 1 (A 2 2)))\n",
    "(A 1 (A 1 (A 1 (A 2 1))))\n",
    "(A 1 (A 1 (A 1 2)))\n",
    "(A 1 (A 1 (A 0 (A 1 1))))\n",
    "(A 1 (A 1 (A 0 2)))\n",
    "(A 1 (A 1 4))\n",
    "(A 1 4)"
   ]
  },
  {
   "cell_type": "code",
   "execution_count": 5,
   "metadata": {},
   "outputs": [
    {
     "data": {
      "text/plain": [
       "65536"
      ]
     },
     "execution_count": 5,
     "metadata": {},
     "output_type": "execute_result"
    }
   ],
   "source": [
    "(A 3 3)"
   ]
  },
  {
   "cell_type": "code",
   "execution_count": 6,
   "metadata": {},
   "outputs": [
    {
     "data": {
      "text/plain": [
       "4"
      ]
     },
     "execution_count": 6,
     "metadata": {},
     "output_type": "execute_result"
    }
   ],
   "source": [
    "(A 4 2)"
   ]
  },
  {
   "cell_type": "code",
   "execution_count": 9,
   "metadata": {},
   "outputs": [
    {
     "data": {
      "text/plain": [
       "65536"
      ]
     },
     "execution_count": 9,
     "metadata": {},
     "output_type": "execute_result"
    }
   ],
   "source": [
    "(A 2 4)"
   ]
  },
  {
   "cell_type": "markdown",
   "metadata": {},
   "source": [
    "## exercise 1.11"
   ]
  },
  {
   "cell_type": "code",
   "execution_count": 1,
   "metadata": {},
   "outputs": [
    {
     "data": {
      "text/plain": [
       "fff"
      ]
     },
     "execution_count": 1,
     "metadata": {},
     "output_type": "execute_result"
    }
   ],
   "source": [
    "(define (fff n)\n",
    "  (if (< n 3)\n",
    "      n\n",
    "      (+ (fff (- n 1)) (* (fff (- n 2)) 2) (* (fff (- n 3)) 3))))"
   ]
  },
  {
   "cell_type": "code",
   "execution_count": 2,
   "metadata": {},
   "outputs": [
    {
     "data": {
      "text/plain": [
       "1892"
      ]
     },
     "execution_count": 2,
     "metadata": {},
     "output_type": "execute_result"
    }
   ],
   "source": [
    "(fff 10)"
   ]
  },
  {
   "cell_type": "code",
   "execution_count": 3,
   "metadata": {},
   "outputs": [
    {
     "data": {
      "text/plain": [
       "4489"
      ]
     },
     "execution_count": 3,
     "metadata": {},
     "output_type": "execute_result"
    }
   ],
   "source": [
    "(fff 11)"
   ]
  },
  {
   "cell_type": "markdown",
   "metadata": {},
   "source": [
    "## exercise 1.12 (pascal's triangle)"
   ]
  },
  {
   "cell_type": "code",
   "execution_count": 6,
   "metadata": {},
   "outputs": [
    {
     "data": {
      "text/plain": [
       "pascal"
      ]
     },
     "execution_count": 6,
     "metadata": {},
     "output_type": "execute_result"
    }
   ],
   "source": [
    "(define (pascal row col)\n",
    "  (cond ((= row col) 1))\n",
    "        ((= col 1) 1)\n",
    "        (else (+ (pascal (- row 1) col) (pascal (- row 1) (- col 1))))))"
   ]
  },
  {
   "cell_type": "code",
   "execution_count": 7,
   "metadata": {},
   "outputs": [
    {
     "data": {
      "text/plain": [
       "1"
      ]
     },
     "execution_count": 7,
     "metadata": {},
     "output_type": "execute_result"
    }
   ],
   "source": [
    "(pascal 3 3)"
   ]
  },
  {
   "cell_type": "code",
   "execution_count": 10,
   "metadata": {},
   "outputs": [
    {
     "data": {
      "text/plain": [
       "75582"
      ]
     },
     "execution_count": 10,
     "metadata": {},
     "output_type": "execute_result"
    }
   ],
   "source": [
    "(pascal 20 9)"
   ]
  },
  {
   "cell_type": "markdown",
   "metadata": {},
   "source": [
    "## exercise 1.19\n",
    "\n",
    "    # iter1\n",
    "    a <- bq + aq + ap\n",
    "    b <- bp + aq\n",
    "    \n",
    "    # iter2\n",
    "    a <- (bp + aq)q + (bq + aq + ap)q + (bq + aq + ap)p\n",
    "    b <- (bp + aq)p + (bq + aq + ap)q\n",
    "    \n",
    "    # iter2 reduced partially\n",
    "    a <- bpq + aq^2 + bq^2 + aq^2 + apq + bpq + apq + ap^2\n",
    "    b <- bp^2 + apq + bq^2 + aq^2 + apq\n",
    "    \n",
    "    # iter2 reduced fully\n",
    "    a <- 2bpq + 2aq^2 + bq^2 + 2apq + ap^2\n",
    "    b <- bp^2 + 2apq + bq^2 + aq^2\n",
    "\n",
    "    # iter2 apply p=0 q=1\n",
    "    a <- 2a + b\n",
    "    b <- b + a\n",
    "    \n",
    "    # set equal\n",
    "    2a + b = bq + aq + ap\n",
    "    b + a = bp + aq\n",
    "    \n",
    "    \n",
    "    p' = 1\n",
    "    q' = 1"
   ]
  },
  {
   "cell_type": "code",
   "execution_count": null,
   "metadata": {},
   "outputs": [],
   "source": []
  }
 ],
 "metadata": {
  "kernelspec": {
   "display_name": "MIT Scheme",
   "language": "scheme",
   "name": "mit-scheme"
  },
  "language_info": {
   "codemirror_mode": "scheme",
   "file_extension": ".scm",
   "mimetype": "application/x-scheme",
   "name": "MIT Scheme",
   "pygments_lexer": "scheme",
   "version": "9.2.1"
  }
 },
 "nbformat": 4,
 "nbformat_minor": 2
}
